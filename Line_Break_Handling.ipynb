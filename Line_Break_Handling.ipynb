{
 "cells": [
  {
   "cell_type": "code",
   "execution_count": null,
   "metadata": {},
   "outputs": [],
   "source": [
    "import pandas as pd"
   ]
  },
  {
   "cell_type": "code",
   "execution_count": null,
   "metadata": {},
   "outputs": [],
   "source": [
    "rep_url = 'https://raw.githubusercontent.com/kritik-seth/sentiment-analysis/master/twitter_republican.csv'\n",
    "dem_url = 'https://raw.githubusercontent.com/kritik-seth/sentiment-analysis/master/twitter_democrat.csv'\n",
    "rep = pd.read_csv(rep_url)\n",
    "dem = pd.read_csv(dem_url)"
   ]
  },
  {
   "cell_type": "code",
   "execution_count": null,
   "metadata": {},
   "outputs": [],
   "source": [
    "rep_tweets = rep['Tweets']\n",
    "dem_tweets = dem['Tweets']"
   ]
  },
  {
   "cell_type": "markdown",
   "metadata": {},
   "source": [
    "### URL Handling"
   ]
  },
  {
   "cell_type": "code",
   "execution_count": null,
   "metadata": {},
   "outputs": [],
   "source": [
    "from bs4 import BeautifulSoup\n",
    "from html import unescape"
   ]
  },
  {
   "cell_type": "code",
   "execution_count": null,
   "metadata": {},
   "outputs": [],
   "source": [
    "def remove_html(text):\n",
    "    ntext = []\n",
    "    for i in text:\n",
    "        soup = BeautifulSoup(unescape(i), 'lxml')\n",
    "        ntext.append(soup.get_text())\n",
    "    return ntext\n",
    "\n",
    "#yas = \"<input type=\\\"text\\\" placeholder=\\\"Enter Username\\\" name=\\\"username\\\" required>  <label>Password : </label>\"\n",
    "#TAG_RE.sub('', yas)"
   ]
  },
  {
   "cell_type": "code",
   "execution_count": null,
   "metadata": {},
   "outputs": [],
   "source": [
    "r_tweet = remove_html(rep_tweets)"
   ]
  },
  {
   "cell_type": "code",
   "execution_count": null,
   "metadata": {},
   "outputs": [],
   "source": [
    "r_tweet"
   ]
  }
 ],
 "metadata": {
  "kernelspec": {
   "display_name": "Python 3",
   "language": "python",
   "name": "python3"
  },
  "language_info": {
   "codemirror_mode": {
    "name": "ipython",
    "version": 3
   },
   "file_extension": ".py",
   "mimetype": "text/x-python",
   "name": "python",
   "nbconvert_exporter": "python",
   "pygments_lexer": "ipython3",
   "version": "3.7.4"
  }
 },
 "nbformat": 4,
 "nbformat_minor": 2
}
