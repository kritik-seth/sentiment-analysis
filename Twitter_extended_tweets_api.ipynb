{
 "cells": [
  {
   "cell_type": "markdown",
   "metadata": {
    "colab_type": "text",
    "id": "HxTcqkqkCzpZ"
   },
   "source": [
    "# Gathering the data\n",
    "\n",
    "In this part of the code we use the twitter API to parse 5000 tweets each containing the word 'Donald Trump' and 'Joe Biden'\n",
    "\n"
   ]
  },
  {
   "cell_type": "code",
   "execution_count": 1,
   "metadata": {
    "colab": {},
    "colab_type": "code",
    "id": "G0XXH5Wsj-Bp"
   },
   "outputs": [],
   "source": [
    "import tweepy\n",
    "from tweepy import OAuthHandler\n",
    "from tweepy.streaming import StreamListener\n",
    "from tweepy import Stream\n",
    "\n",
    "import time\n",
    "\n",
    "import csv\n",
    "\n",
    "import pandas as pd\n",
    "\n",
    "import numpy as np"
   ]
  },
  {
   "cell_type": "code",
   "execution_count": 2,
   "metadata": {
    "colab": {},
    "colab_type": "code",
    "id": "BOCS4Fya5o0_"
   },
   "outputs": [],
   "source": [
    "consumer_key='5KFQk6RSevfGOyOwlbjxXFZPv'\n",
    "consumer_secret='tHW0aoNCSW4LlB1soZem7H2YZAMwJzNTgrdCqFaiI9iHm2GiZA'\n",
    "access_token='752493770894143488-L7FCWk0FYlcRs4MqPkxIsbno9b93QiJ'\n",
    "access_token_secret='oDOuCi7lngl7UpDUpBJYDLHuWRQWCJ2mo13QJ46dMJ10S'"
   ]
  },
  {
   "cell_type": "code",
   "execution_count": 3,
   "metadata": {
    "colab": {},
    "colab_type": "code",
    "id": "SpRq7aahBAUC"
   },
   "outputs": [],
   "source": [
    "auth = tweepy.OAuthHandler(consumer_key, consumer_secret)\n",
    "auth.set_access_token(access_token, access_token_secret)\n",
    "api = tweepy.API(auth)"
   ]
  },
  {
   "cell_type": "code",
   "execution_count": 4,
   "metadata": {
    "colab": {},
    "colab_type": "code",
    "id": "zS1rF1_NBTaV"
   },
   "outputs": [],
   "source": [
    "df = pd.DataFrame(columns = ['ID', 'User', 'Tweets','fav_count', 'rt_count', 'tweet_date'])"
   ]
  },
  {
   "cell_type": "code",
   "execution_count": 5,
   "metadata": {
    "colab": {},
    "colab_type": "code",
    "id": "xf78pVUHrQ87"
   },
   "outputs": [],
   "source": [
    "def stream(data, file_name):\n",
    "    i = 0\n",
    "    for tweet in tweepy.Cursor(api.search, q=data, count=100, lang='en',tweet_mode = 'extended').items():\n",
    "        print(i, end='\\r')\n",
    "        df.loc[i, 'ID'] = tweet.id\n",
    "        df.loc[i, 'Tweets'] = tweet.full_text\n",
    "        df.loc[i, 'User'] = tweet.user.name\n",
    "        df.loc[i, 'fav_count'] = tweet.favorite_count\n",
    "        df.loc[i, 'rt_count'] = tweet.retweet_count\n",
    "        df.loc[i, 'tweet_date'] = tweet.created_at\n",
    "        df.to_excel('{}.xlsx'.format(file_name))\n",
    "        i+=1\n",
    "        if i == 5000:\n",
    "            break\n",
    "        else:\n",
    "            pass"
   ]
  },
  {
   "cell_type": "code",
   "execution_count": 10,
   "metadata": {
    "colab": {
     "base_uri": "https://localhost:8080/",
     "height": 283
    },
    "colab_type": "code",
    "id": "yjQjYKP8kUVX",
    "outputId": "8b2dc11b-92ce-4242-d9cc-61eef7dbb66e"
   },
   "outputs": [
    {
     "name": "stdout",
     "output_type": "stream",
     "text": [
      "4999\r"
     ]
    }
   ],
   "source": [
    "stream(data = ['Joe Biden'], file_name = 'my_tweets')"
   ]
  },
  {
   "cell_type": "code",
   "execution_count": 11,
   "metadata": {
    "colab": {
     "base_uri": "https://localhost:8080/",
     "height": 204
    },
    "colab_type": "code",
    "id": "115cUkW9leEr",
    "outputId": "b804f697-0bc3-407b-f4d3-dcf34be0f033"
   },
   "outputs": [
    {
     "data": {
      "text/html": [
       "<div>\n",
       "<style scoped>\n",
       "    .dataframe tbody tr th:only-of-type {\n",
       "        vertical-align: middle;\n",
       "    }\n",
       "\n",
       "    .dataframe tbody tr th {\n",
       "        vertical-align: top;\n",
       "    }\n",
       "\n",
       "    .dataframe thead th {\n",
       "        text-align: right;\n",
       "    }\n",
       "</style>\n",
       "<table border=\"1\" class=\"dataframe\">\n",
       "  <thead>\n",
       "    <tr style=\"text-align: right;\">\n",
       "      <th></th>\n",
       "      <th>ID</th>\n",
       "      <th>User</th>\n",
       "      <th>Tweets</th>\n",
       "      <th>fav_count</th>\n",
       "      <th>rt_count</th>\n",
       "      <th>tweet_date</th>\n",
       "    </tr>\n",
       "  </thead>\n",
       "  <tbody>\n",
       "    <tr>\n",
       "      <td>0</td>\n",
       "      <td>1259408164358782976</td>\n",
       "      <td>🇺🇸SD🇺🇸</td>\n",
       "      <td>RT @charliekirk11: America needs answers about...</td>\n",
       "      <td>0</td>\n",
       "      <td>3126</td>\n",
       "      <td>2020-05-10 09:01:19</td>\n",
       "    </tr>\n",
       "    <tr>\n",
       "      <td>1</td>\n",
       "      <td>1259408160932147205</td>\n",
       "      <td>James Lewis</td>\n",
       "      <td>RT @DoItForMaMa: Yes Also black white, hispani...</td>\n",
       "      <td>0</td>\n",
       "      <td>5</td>\n",
       "      <td>2020-05-10 09:01:18</td>\n",
       "    </tr>\n",
       "    <tr>\n",
       "      <td>2</td>\n",
       "      <td>1259408158201712641</td>\n",
       "      <td>Ashley Savage</td>\n",
       "      <td>RT @frfrankpavone: Catholic Bishop Says Stoppi...</td>\n",
       "      <td>0</td>\n",
       "      <td>14</td>\n",
       "      <td>2020-05-10 09:01:18</td>\n",
       "    </tr>\n",
       "    <tr>\n",
       "      <td>3</td>\n",
       "      <td>1259408156654014464</td>\n",
       "      <td>ProudMary</td>\n",
       "      <td>RT @MSNBC: Sen. Warren is the most popular cho...</td>\n",
       "      <td>0</td>\n",
       "      <td>400</td>\n",
       "      <td>2020-05-10 09:01:17</td>\n",
       "    </tr>\n",
       "    <tr>\n",
       "      <td>4</td>\n",
       "      <td>1259408149888544769</td>\n",
       "      <td>BERNADETTE</td>\n",
       "      <td>RT @frfrankpavone: Catholic Bishop Says Stoppi...</td>\n",
       "      <td>0</td>\n",
       "      <td>14</td>\n",
       "      <td>2020-05-10 09:01:16</td>\n",
       "    </tr>\n",
       "  </tbody>\n",
       "</table>\n",
       "</div>"
      ],
      "text/plain": [
       "                    ID           User  \\\n",
       "0  1259408164358782976         🇺🇸SD🇺🇸   \n",
       "1  1259408160932147205    James Lewis   \n",
       "2  1259408158201712641  Ashley Savage   \n",
       "3  1259408156654014464      ProudMary   \n",
       "4  1259408149888544769     BERNADETTE   \n",
       "\n",
       "                                              Tweets fav_count rt_count  \\\n",
       "0  RT @charliekirk11: America needs answers about...         0     3126   \n",
       "1  RT @DoItForMaMa: Yes Also black white, hispani...         0        5   \n",
       "2  RT @frfrankpavone: Catholic Bishop Says Stoppi...         0       14   \n",
       "3  RT @MSNBC: Sen. Warren is the most popular cho...         0      400   \n",
       "4  RT @frfrankpavone: Catholic Bishop Says Stoppi...         0       14   \n",
       "\n",
       "            tweet_date  \n",
       "0  2020-05-10 09:01:19  \n",
       "1  2020-05-10 09:01:18  \n",
       "2  2020-05-10 09:01:18  \n",
       "3  2020-05-10 09:01:17  \n",
       "4  2020-05-10 09:01:16  "
      ]
     },
     "execution_count": 11,
     "metadata": {},
     "output_type": "execute_result"
    }
   ],
   "source": [
    "df.head()"
   ]
  },
  {
   "cell_type": "code",
   "execution_count": 12,
   "metadata": {},
   "outputs": [],
   "source": [
    "df.to_csv('/Users/kritik/Downloads/twitter_democrats.csv')"
   ]
  }
 ],
 "metadata": {
  "colab": {
   "collapsed_sections": [],
   "name": "Unsupervised-Sentiment-Analysis.ipynb",
   "provenance": []
  },
  "kernelspec": {
   "display_name": "Python 3",
   "language": "python",
   "name": "python3"
  },
  "language_info": {
   "codemirror_mode": {
    "name": "ipython",
    "version": 3
   },
   "file_extension": ".py",
   "mimetype": "text/x-python",
   "name": "python",
   "nbconvert_exporter": "python",
   "pygments_lexer": "ipython3",
   "version": "3.7.4"
  }
 },
 "nbformat": 4,
 "nbformat_minor": 1
}
