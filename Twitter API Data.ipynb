{
 "cells": [
  {
   "cell_type": "code",
   "execution_count": 1,
   "metadata": {},
   "outputs": [],
   "source": [
    "import tweepy\n",
    "from tweepy import OAuthHandler\n",
    "from tweepy.streaming import StreamListener\n",
    "from tweepy import Stream\n",
    "\n",
    "import pandas as pd"
   ]
  },
  {
   "cell_type": "code",
   "execution_count": 2,
   "metadata": {},
   "outputs": [],
   "source": [
    "consumer_key= X\n",
    "consumer_secret= X\n",
    "access_token= X\n",
    "access_token_secret=X"
   ]
  },
  {
   "cell_type": "code",
   "execution_count": 3,
   "metadata": {},
   "outputs": [],
   "source": [
    "auth = tweepy.OAuthHandler(consumer_key, consumer_secret)\n",
    "auth.set_access_token(access_token, access_token_secret)\n",
    "api = tweepy.API(auth)"
   ]
  },
  {
   "cell_type": "code",
   "execution_count": 4,
   "metadata": {},
   "outputs": [],
   "source": [
    "df = pd.DataFrame(columns = ['ID', 'User', 'Tweets','fav_count', 'rt_count', 'tweet_date'])"
   ]
  },
  {
   "cell_type": "code",
   "execution_count": 5,
   "metadata": {},
   "outputs": [],
   "source": [
    "def stream(data, file_name):\n",
    "    i = 0\n",
    "    for tweet in tweepy.Cursor(api.search, q=data, count=100, lang='en',tweet_mode = 'extended').items():\n",
    "        print(i, end='\\r')\n",
    "        df.loc[i, 'ID'] = tweet.id\n",
    "        df.loc[i, 'Tweets'] = tweet.full_text\n",
    "        df.loc[i, 'User'] = tweet.user.name\n",
    "        df.loc[i, 'fav_count'] = tweet.favorite_count\n",
    "        df.loc[i, 'rt_count'] = tweet.retweet_count\n",
    "        df.loc[i, 'tweet_date'] = tweet.created_at\n",
    "        df.to_excel('{}.xlsx'.format(file_name))\n",
    "        i+=1\n",
    "        if i == 5000:\n",
    "            break\n",
    "        else:\n",
    "            pass"
   ]
  },
  {
   "cell_type": "code",
   "execution_count": 6,
   "metadata": {},
   "outputs": [
    {
     "name": "stdout",
     "output_type": "stream",
     "text": [
      "1844\r"
     ]
    },
    {
     "name": "stderr",
     "output_type": "stream",
     "text": [
      "/opt/anaconda3/lib/python3.7/site-packages/xlsxwriter/worksheet.py:931: UserWarning: Ignoring URL 'https://t.co/4kFsPhjBqY\n",
      "In%201980,%2015-year-old%20Amy%20Carter%20left%20a%20burnt%20cake%20in%20the%20oven%20of%20the%20White%20House’s%20family%20quarters%20in%20a%20reflex%20of%20childish%20revenge%20for%20her%20father’s%20landslide%20loss%20to%20Ronald%20Reagan.%20In%202017,%20Barack%20Obama%20and%20Joe%20Biden%20avenged%20Donald%20Trump’s%20surprise%20victory' with link or location/anchor > 255 characters since it exceeds Excel's limit for URLS\n",
      "  force_unicode(url))\n"
     ]
    },
    {
     "name": "stdout",
     "output_type": "stream",
     "text": [
      "4484\r"
     ]
    },
    {
     "name": "stderr",
     "output_type": "stream",
     "text": [
      "/opt/anaconda3/lib/python3.7/site-packages/xlsxwriter/worksheet.py:931: UserWarning: Ignoring URL 'https://t.co/CybsVtJzoT%20And%20on%20the%20Democratic%20side,%20Joe%20Biden%20is%20more%20popular%20among%20older%20voters%20than%20Hillary%20Clinton%20was.%20Consider%20this%20comparison%20of%20a%20poll%20from%20last%20month%20and%20one%20from%20shortly%20before%20the%202016%20election:' with link or location/anchor > 255 characters since it exceeds Excel's limit for URLS\n",
      "  force_unicode(url))\n"
     ]
    },
    {
     "name": "stdout",
     "output_type": "stream",
     "text": [
      "4999\r"
     ]
    }
   ],
   "source": [
    "stream(data = 'Joe Biden -filter:retweets', file_name = 'my_tweets')"
   ]
  },
  {
   "cell_type": "code",
   "execution_count": 7,
   "metadata": {},
   "outputs": [
    {
     "data": {
      "text/html": [
       "<div>\n",
       "<style scoped>\n",
       "    .dataframe tbody tr th:only-of-type {\n",
       "        vertical-align: middle;\n",
       "    }\n",
       "\n",
       "    .dataframe tbody tr th {\n",
       "        vertical-align: top;\n",
       "    }\n",
       "\n",
       "    .dataframe thead th {\n",
       "        text-align: right;\n",
       "    }\n",
       "</style>\n",
       "<table border=\"1\" class=\"dataframe\">\n",
       "  <thead>\n",
       "    <tr style=\"text-align: right;\">\n",
       "      <th></th>\n",
       "      <th>ID</th>\n",
       "      <th>User</th>\n",
       "      <th>Tweets</th>\n",
       "      <th>fav_count</th>\n",
       "      <th>rt_count</th>\n",
       "      <th>tweet_date</th>\n",
       "    </tr>\n",
       "  </thead>\n",
       "  <tbody>\n",
       "    <tr>\n",
       "      <td>0</td>\n",
       "      <td>1259888429392900096</td>\n",
       "      <td>Central Park Shock Trooper 🔥🌹</td>\n",
       "      <td>@djspacewizards @JoeySchmahl1 @Bitzy1221 @JoeB...</td>\n",
       "      <td>0</td>\n",
       "      <td>0</td>\n",
       "      <td>2020-05-11 16:49:43</td>\n",
       "    </tr>\n",
       "    <tr>\n",
       "      <td>1</td>\n",
       "      <td>1259888412846444546</td>\n",
       "      <td>Linda Whelan</td>\n",
       "      <td>Joe Biden: How the White House coronavirus res...</td>\n",
       "      <td>0</td>\n",
       "      <td>0</td>\n",
       "      <td>2020-05-11 16:49:39</td>\n",
       "    </tr>\n",
       "    <tr>\n",
       "      <td>2</td>\n",
       "      <td>1259888405909049345</td>\n",
       "      <td>02 the village pimp</td>\n",
       "      <td>lmao at the thought of a fucking joe biden for...</td>\n",
       "      <td>0</td>\n",
       "      <td>0</td>\n",
       "      <td>2020-05-11 16:49:38</td>\n",
       "    </tr>\n",
       "    <tr>\n",
       "      <td>3</td>\n",
       "      <td>1259888372950208515</td>\n",
       "      <td>👑</td>\n",
       "      <td>THEY FINNA HAVE JOE BIDEN DOING THE ORANGE JUS...</td>\n",
       "      <td>0</td>\n",
       "      <td>0</td>\n",
       "      <td>2020-05-11 16:49:30</td>\n",
       "    </tr>\n",
       "    <tr>\n",
       "      <td>4</td>\n",
       "      <td>1259888372853534720</td>\n",
       "      <td>jmoney</td>\n",
       "      <td>Joe Biden: How the White House coronavirus res...</td>\n",
       "      <td>0</td>\n",
       "      <td>0</td>\n",
       "      <td>2020-05-11 16:49:30</td>\n",
       "    </tr>\n",
       "  </tbody>\n",
       "</table>\n",
       "</div>"
      ],
      "text/plain": [
       "                    ID                           User  \\\n",
       "0  1259888429392900096  Central Park Shock Trooper 🔥🌹   \n",
       "1  1259888412846444546                   Linda Whelan   \n",
       "2  1259888405909049345            02 the village pimp   \n",
       "3  1259888372950208515                              👑   \n",
       "4  1259888372853534720                         jmoney   \n",
       "\n",
       "                                              Tweets fav_count rt_count  \\\n",
       "0  @djspacewizards @JoeySchmahl1 @Bitzy1221 @JoeB...         0        0   \n",
       "1  Joe Biden: How the White House coronavirus res...         0        0   \n",
       "2  lmao at the thought of a fucking joe biden for...         0        0   \n",
       "3  THEY FINNA HAVE JOE BIDEN DOING THE ORANGE JUS...         0        0   \n",
       "4  Joe Biden: How the White House coronavirus res...         0        0   \n",
       "\n",
       "            tweet_date  \n",
       "0  2020-05-11 16:49:43  \n",
       "1  2020-05-11 16:49:39  \n",
       "2  2020-05-11 16:49:38  \n",
       "3  2020-05-11 16:49:30  \n",
       "4  2020-05-11 16:49:30  "
      ]
     },
     "execution_count": 7,
     "metadata": {},
     "output_type": "execute_result"
    }
   ],
   "source": [
    "df.head()"
   ]
  },
  {
   "cell_type": "code",
   "execution_count": 8,
   "metadata": {},
   "outputs": [],
   "source": [
    "df.to_csv('/Users/kritik/Downloads/twitter_democrat.csv')"
   ]
  }
 ],
 "metadata": {
  "kernelspec": {
   "display_name": "Python 3",
   "language": "python",
   "name": "python3"
  },
  "language_info": {
   "codemirror_mode": {
    "name": "ipython",
    "version": 3
   },
   "file_extension": ".py",
   "mimetype": "text/x-python",
   "name": "python",
   "nbconvert_exporter": "python",
   "pygments_lexer": "ipython3",
   "version": "3.7.4"
  }
 },
 "nbformat": 4,
 "nbformat_minor": 2
}
