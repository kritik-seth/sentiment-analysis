{
  "nbformat": 4,
  "nbformat_minor": 0,
  "metadata": {
    "colab": {
      "name": "Sentiment-Analysis-KITs.ipynb",
      "provenance": [],
      "collapsed_sections": []
    },
    "kernelspec": {
      "name": "python3",
      "display_name": "Python 3"
    }
  },
  "cells": [
    {
      "cell_type": "code",
      "metadata": {
        "id": "G0XXH5Wsj-Bp",
        "colab_type": "code",
        "colab": {}
      },
      "source": [
        "import tweepy\n",
        "from tweepy import OAuthHandler\n",
        "from tweepy.streaming import StreamListener\n",
        "from tweepy import Stream\n",
        "\n",
        "import time\n",
        "\n",
        "import csv\n",
        "\n",
        "import pandas as pd\n",
        "\n",
        "import numpy as np"
      ],
      "execution_count": 0,
      "outputs": []
    },
    {
      "cell_type": "code",
      "metadata": {
        "id": "BOCS4Fya5o0_",
        "colab_type": "code",
        "colab": {}
      },
      "source": [
        "consumer_key='5KFQk6RSevfGOyOwlbjxXFZPv'\n",
        "consumer_secret='tHW0aoNCSW4LlB1soZem7H2YZAMwJzNTgrdCqFaiI9iHm2GiZA'\n",
        "access_token='752493770894143488-L7FCWk0FYlcRs4MqPkxIsbno9b93QiJ'\n",
        "access_token_secret='oDOuCi7lngl7UpDUpBJYDLHuWRQWCJ2mo13QJ46dMJ10S'"
      ],
      "execution_count": 0,
      "outputs": []
    },
    {
      "cell_type": "code",
      "metadata": {
        "id": "SpRq7aahBAUC",
        "colab_type": "code",
        "colab": {}
      },
      "source": [
        "auth = tweepy.OAuthHandler(consumer_key, consumer_secret)\n",
        "auth.set_access_token(access_token, access_token_secret)\n",
        "api = tweepy.API(auth)"
      ],
      "execution_count": 0,
      "outputs": []
    },
    {
      "cell_type": "code",
      "metadata": {
        "id": "zS1rF1_NBTaV",
        "colab_type": "code",
        "colab": {}
      },
      "source": [
        "df = pd.DataFrame(columns = ['ID', 'User', 'Tweets','fav_count', 'rt_count', 'tweet_date'])"
      ],
      "execution_count": 0,
      "outputs": []
    },
    {
      "cell_type": "code",
      "metadata": {
        "id": "xf78pVUHrQ87",
        "colab_type": "code",
        "colab": {}
      },
      "source": [
        "def stream(data, file_name):\n",
        "    i = 0\n",
        "    for tweet in tweepy.Cursor(api.search, q=data, count=100, lang='en').items():\n",
        "        print(i, end='\\r')\n",
        "        df.loc[i, 'ID'] = tweet.id\n",
        "        df.loc[i, 'Tweets'] = tweet.text\n",
        "        df.loc[i, 'User'] = tweet.user.name\n",
        "        df.loc[i, 'fav_count'] = tweet.favorite_count\n",
        "        df.loc[i, 'rt_count'] = tweet.retweet_count\n",
        "        df.loc[i, 'tweet_date'] = tweet.created_at\n",
        "        df.to_excel('{}.xlsx'.format(file_name))\n",
        "        i+=1\n",
        "        if i == 1000:\n",
        "            break\n",
        "        else:\n",
        "            pass"
      ],
      "execution_count": 0,
      "outputs": []
    },
    {
      "cell_type": "code",
      "metadata": {
        "id": "yjQjYKP8kUVX",
        "colab_type": "code",
        "colab": {
          "base_uri": "https://localhost:8080/",
          "height": 17
        },
        "outputId": "42533a12-50ca-4d6c-a777-f2583c4da26e"
      },
      "source": [
        "stream(data = ['Donald Trump'], file_name = 'my_tweets')"
      ],
      "execution_count": 6,
      "outputs": [
        {
          "output_type": "stream",
          "text": [
            ""
          ],
          "name": "stdout"
        }
      ]
    },
    {
      "cell_type": "code",
      "metadata": {
        "id": "115cUkW9leEr",
        "colab_type": "code",
        "colab": {
          "base_uri": "https://localhost:8080/",
          "height": 204
        },
        "outputId": "b804f697-0bc3-407b-f4d3-dcf34be0f033"
      },
      "source": [
        "df.head()"
      ],
      "execution_count": 7,
      "outputs": [
        {
          "output_type": "execute_result",
          "data": {
            "text/html": [
              "<div>\n",
              "<style scoped>\n",
              "    .dataframe tbody tr th:only-of-type {\n",
              "        vertical-align: middle;\n",
              "    }\n",
              "\n",
              "    .dataframe tbody tr th {\n",
              "        vertical-align: top;\n",
              "    }\n",
              "\n",
              "    .dataframe thead th {\n",
              "        text-align: right;\n",
              "    }\n",
              "</style>\n",
              "<table border=\"1\" class=\"dataframe\">\n",
              "  <thead>\n",
              "    <tr style=\"text-align: right;\">\n",
              "      <th></th>\n",
              "      <th>ID</th>\n",
              "      <th>User</th>\n",
              "      <th>Tweets</th>\n",
              "      <th>fav_count</th>\n",
              "      <th>rt_count</th>\n",
              "      <th>tweet_date</th>\n",
              "    </tr>\n",
              "  </thead>\n",
              "  <tbody>\n",
              "    <tr>\n",
              "      <th>0</th>\n",
              "      <td>1258125196784832514</td>\n",
              "      <td>Sandra Gibbons</td>\n",
              "      <td>RT @unholybiblepod: Donald Trump's Mafia Mixta...</td>\n",
              "      <td>0</td>\n",
              "      <td>201</td>\n",
              "      <td>2020-05-06 20:03:16</td>\n",
              "    </tr>\n",
              "    <tr>\n",
              "      <th>1</th>\n",
              "      <td>1258125194771566592</td>\n",
              "      <td>CORONAVIRUSUPDATE</td>\n",
              "      <td>The lies and ignorance of conservative TV host...</td>\n",
              "      <td>0</td>\n",
              "      <td>0</td>\n",
              "      <td>2020-05-06 20:03:15</td>\n",
              "    </tr>\n",
              "    <tr>\n",
              "      <th>2</th>\n",
              "      <td>1258125190418096131</td>\n",
              "      <td>Para Comentar</td>\n",
              "      <td>Top story: Joe Biden To Launch $55 Million Lat...</td>\n",
              "      <td>0</td>\n",
              "      <td>0</td>\n",
              "      <td>2020-05-06 20:03:14</td>\n",
              "    </tr>\n",
              "    <tr>\n",
              "      <th>3</th>\n",
              "      <td>1258125190384533507</td>\n",
              "      <td>Jimmie Carter</td>\n",
              "      <td>RT @Daytobehappy: Donald Trump is an extremely...</td>\n",
              "      <td>0</td>\n",
              "      <td>13</td>\n",
              "      <td>2020-05-06 20:03:14</td>\n",
              "    </tr>\n",
              "    <tr>\n",
              "      <th>4</th>\n",
              "      <td>1258125189524664324</td>\n",
              "      <td>🌹💜Linda💜🌹</td>\n",
              "      <td>RT @Hope012015: Companies owned by Donald Trum...</td>\n",
              "      <td>0</td>\n",
              "      <td>22</td>\n",
              "      <td>2020-05-06 20:03:14</td>\n",
              "    </tr>\n",
              "  </tbody>\n",
              "</table>\n",
              "</div>"
            ],
            "text/plain": [
              "                    ID               User  ... rt_count           tweet_date\n",
              "0  1258125196784832514     Sandra Gibbons  ...      201  2020-05-06 20:03:16\n",
              "1  1258125194771566592  CORONAVIRUSUPDATE  ...        0  2020-05-06 20:03:15\n",
              "2  1258125190418096131      Para Comentar  ...        0  2020-05-06 20:03:14\n",
              "3  1258125190384533507      Jimmie Carter  ...       13  2020-05-06 20:03:14\n",
              "4  1258125189524664324          🌹💜Linda💜🌹  ...       22  2020-05-06 20:03:14\n",
              "\n",
              "[5 rows x 6 columns]"
            ]
          },
          "metadata": {
            "tags": []
          },
          "execution_count": 7
        }
      ]
    }
  ]
}